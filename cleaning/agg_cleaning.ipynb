{
 "cells": [
  {
   "cell_type": "code",
   "execution_count": 142,
   "metadata": {},
   "outputs": [],
   "source": [
    "import numpy as np\n",
    "import pandas as pd\n",
    "import re\n",
    "import json"
   ]
  },
  {
   "cell_type": "code",
   "execution_count": 143,
   "metadata": {},
   "outputs": [],
   "source": [
    "df = pd.read_json('../data/aggregated.json')"
   ]
  },
  {
   "cell_type": "code",
   "execution_count": 144,
   "metadata": {},
   "outputs": [
    {
     "data": {
      "text/plain": [
       "0        876.0\n",
       "1       2000.0\n",
       "2          NaN\n",
       "3        800.0\n",
       "4        800.0\n",
       "         ...  \n",
       "9369     130.0\n",
       "9370     130.0\n",
       "9371     130.0\n",
       "9372     130.0\n",
       "9373     130.0\n",
       "Name: area, Length: 9374, dtype: float64"
      ]
     },
     "execution_count": 144,
     "metadata": {},
     "output_type": "execute_result"
    }
   ],
   "source": [
    "df['area'] = df['area'].fillna(value=np.nan)\n",
    "\n",
    "def clean_area(area):\n",
    "    if isinstance(area, int):\n",
    "        return float(area)\n",
    "    elif isinstance(area, float):\n",
    "        return area\n",
    "    elif re.search('(\\d+)(?:\\s*[\\-\\/+*]\\s*)(\\d+)', str(area)) != None and len(area) > 4:\n",
    "        var = re.search('(\\d+)(?:\\s*[\\-\\/+*]\\s*)(\\d+)', str(area))\n",
    "        return (float(var.group(1)) + float(var.group(2))) / 2\n",
    "    elif re.search('(\\d+)', area) != None:\n",
    "        if re.search('(\\d+)(?:x)(\\d+)', area) != None:\n",
    "            num = re.search('(\\d+)(?:x)(\\d+)', area)\n",
    "            return float(num.group(1)) * float(num.group(2))\n",
    "        area = area.replace(',', '').replace('~', '')\n",
    "        return re.search('(\\d+)', area).group(1)\n",
    "    else:\n",
    "        return np.nan\n",
    "    \n",
    "df['area'] = df['area'].apply(clean_area).astype(float).replace(0, np.nan)\n",
    "df['area']"
   ]
  },
  {
   "cell_type": "code",
   "execution_count": 145,
   "metadata": {},
   "outputs": [
    {
     "data": {
      "text/plain": [
       "0        2.0\n",
       "1        4.0\n",
       "2        3.0\n",
       "3        1.0\n",
       "4        1.0\n",
       "        ... \n",
       "9369    10.0\n",
       "9370    10.0\n",
       "9371    10.0\n",
       "9372    10.0\n",
       "9373    10.0\n",
       "Name: bed, Length: 9374, dtype: float64"
      ]
     },
     "execution_count": 145,
     "metadata": {},
     "output_type": "execute_result"
    }
   ],
   "source": [
    "df['bed'] = df['bed'].fillna(value=np.nan)\n",
    "\n",
    "def clean_bed(bed):\n",
    "    if bed == \"\":\n",
    "        return np.nan\n",
    "    elif isinstance(bed, str):\n",
    "        if re.search('\\d+', bed) != None:\n",
    "            return float(bed)\n",
    "        else:\n",
    "            return np.nan\n",
    "    else:\n",
    "        return float(bed)\n",
    "    \n",
    "df['bed'] = df['bed'].apply(clean_bed)\n",
    "df['bed']"
   ]
  },
  {
   "cell_type": "code",
   "execution_count": 150,
   "metadata": {},
   "outputs": [],
   "source": [
    "df['year_built'] = df['year_built'].replace(0, np.nan)"
   ]
  },
  {
   "cell_type": "code",
   "execution_count": 153,
   "metadata": {},
   "outputs": [],
   "source": [
    "df.to_json('../data/cleaned_data/aggregated.json')"
   ]
  },
  {
   "cell_type": "code",
   "execution_count": null,
   "metadata": {},
   "outputs": [],
   "source": []
  }
 ],
 "metadata": {
  "kernelspec": {
   "display_name": "Python 3",
   "language": "python",
   "name": "python3"
  },
  "language_info": {
   "codemirror_mode": {
    "name": "ipython",
    "version": 3
   },
   "file_extension": ".py",
   "mimetype": "text/x-python",
   "name": "python",
   "nbconvert_exporter": "python",
   "pygments_lexer": "ipython3",
   "version": "3.7.3"
  }
 },
 "nbformat": 4,
 "nbformat_minor": 4
}
